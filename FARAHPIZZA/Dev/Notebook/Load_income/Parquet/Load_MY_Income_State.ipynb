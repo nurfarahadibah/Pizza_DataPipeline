{
 "cells": [
  {
   "cell_type": "code",
   "execution_count": 1,
   "metadata": {},
   "outputs": [],
   "source": [
    "import pandas as pd\n",
    "import datetime"
   ]
  },
  {
   "cell_type": "code",
   "execution_count": 2,
   "metadata": {},
   "outputs": [],
   "source": [
    "    \n",
    "# using now() to get current time\n",
    "current_time = datetime.datetime.now()\n",
    "    \n",
    "year=current_time.year\n",
    "month=current_time.month   \n",
    "day=current_time.day\n"
   ]
  },
  {
   "cell_type": "code",
   "execution_count": 3,
   "metadata": {},
   "outputs": [],
   "source": [
    "external_path='https://storage.dosm.gov.my/hies/hh_income_state.parquet' \n",
    "landing_zone_path=f'../../../Landing-Zone/Income/hh_income_state_{year}-{month}-{day}.parquet'"
   ]
  },
  {
   "cell_type": "code",
   "execution_count": 4,
   "metadata": {},
   "outputs": [],
   "source": [
    "df=pd.read_parquet(external_path)"
   ]
  },
  {
   "cell_type": "code",
   "execution_count": 5,
   "metadata": {},
   "outputs": [
    {
     "data": {
      "text/html": [
       "<div>\n",
       "<style scoped>\n",
       "    .dataframe tbody tr th:only-of-type {\n",
       "        vertical-align: middle;\n",
       "    }\n",
       "\n",
       "    .dataframe tbody tr th {\n",
       "        vertical-align: top;\n",
       "    }\n",
       "\n",
       "    .dataframe thead th {\n",
       "        text-align: right;\n",
       "    }\n",
       "</style>\n",
       "<table border=\"1\" class=\"dataframe\">\n",
       "  <thead>\n",
       "    <tr style=\"text-align: right;\">\n",
       "      <th></th>\n",
       "      <th>state</th>\n",
       "      <th>date</th>\n",
       "      <th>income_mean</th>\n",
       "      <th>income_median</th>\n",
       "    </tr>\n",
       "  </thead>\n",
       "  <tbody>\n",
       "    <tr>\n",
       "      <th>0</th>\n",
       "      <td>Johor</td>\n",
       "      <td>1970-01-01</td>\n",
       "      <td>237</td>\n",
       "      <td>&lt;NA&gt;</td>\n",
       "    </tr>\n",
       "    <tr>\n",
       "      <th>1</th>\n",
       "      <td>Johor</td>\n",
       "      <td>1974-01-01</td>\n",
       "      <td>382</td>\n",
       "      <td>269</td>\n",
       "    </tr>\n",
       "    <tr>\n",
       "      <th>2</th>\n",
       "      <td>Johor</td>\n",
       "      <td>1976-01-01</td>\n",
       "      <td>513</td>\n",
       "      <td>370</td>\n",
       "    </tr>\n",
       "    <tr>\n",
       "      <th>3</th>\n",
       "      <td>Johor</td>\n",
       "      <td>1979-01-01</td>\n",
       "      <td>731</td>\n",
       "      <td>518</td>\n",
       "    </tr>\n",
       "    <tr>\n",
       "      <th>4</th>\n",
       "      <td>Johor</td>\n",
       "      <td>1984-01-01</td>\n",
       "      <td>1065</td>\n",
       "      <td>793</td>\n",
       "    </tr>\n",
       "    <tr>\n",
       "      <th>...</th>\n",
       "      <td>...</td>\n",
       "      <td>...</td>\n",
       "      <td>...</td>\n",
       "      <td>...</td>\n",
       "    </tr>\n",
       "    <tr>\n",
       "      <th>298</th>\n",
       "      <td>W.P. Putrajaya</td>\n",
       "      <td>2014-01-01</td>\n",
       "      <td>10401</td>\n",
       "      <td>7512</td>\n",
       "    </tr>\n",
       "    <tr>\n",
       "      <th>299</th>\n",
       "      <td>W.P. Putrajaya</td>\n",
       "      <td>2016-01-01</td>\n",
       "      <td>11555</td>\n",
       "      <td>8275</td>\n",
       "    </tr>\n",
       "    <tr>\n",
       "      <th>300</th>\n",
       "      <td>W.P. Putrajaya</td>\n",
       "      <td>2019-01-01</td>\n",
       "      <td>12840</td>\n",
       "      <td>9983</td>\n",
       "    </tr>\n",
       "    <tr>\n",
       "      <th>301</th>\n",
       "      <td>W.P. Putrajaya</td>\n",
       "      <td>2020-01-01</td>\n",
       "      <td>12322</td>\n",
       "      <td>9743</td>\n",
       "    </tr>\n",
       "    <tr>\n",
       "      <th>302</th>\n",
       "      <td>W.P. Putrajaya</td>\n",
       "      <td>2022-01-01</td>\n",
       "      <td>13473</td>\n",
       "      <td>10056</td>\n",
       "    </tr>\n",
       "  </tbody>\n",
       "</table>\n",
       "<p>303 rows × 4 columns</p>\n",
       "</div>"
      ],
      "text/plain": [
       "              state        date  income_mean  income_median\n",
       "0             Johor  1970-01-01          237           <NA>\n",
       "1             Johor  1974-01-01          382            269\n",
       "2             Johor  1976-01-01          513            370\n",
       "3             Johor  1979-01-01          731            518\n",
       "4             Johor  1984-01-01         1065            793\n",
       "..              ...         ...          ...            ...\n",
       "298  W.P. Putrajaya  2014-01-01        10401           7512\n",
       "299  W.P. Putrajaya  2016-01-01        11555           8275\n",
       "300  W.P. Putrajaya  2019-01-01        12840           9983\n",
       "301  W.P. Putrajaya  2020-01-01        12322           9743\n",
       "302  W.P. Putrajaya  2022-01-01        13473          10056\n",
       "\n",
       "[303 rows x 4 columns]"
      ]
     },
     "execution_count": 5,
     "metadata": {},
     "output_type": "execute_result"
    }
   ],
   "source": [
    "df"
   ]
  },
  {
   "cell_type": "code",
   "execution_count": 6,
   "metadata": {},
   "outputs": [
    {
     "data": {
      "text/plain": [
       "(303, 4)"
      ]
     },
     "execution_count": 6,
     "metadata": {},
     "output_type": "execute_result"
    }
   ],
   "source": [
    "df.shape"
   ]
  },
  {
   "cell_type": "code",
   "execution_count": 7,
   "metadata": {},
   "outputs": [],
   "source": [
    "df.to_parquet(landing_zone_path)"
   ]
  },
  {
   "cell_type": "code",
   "execution_count": null,
   "metadata": {},
   "outputs": [],
   "source": []
  }
 ],
 "metadata": {
  "kernelspec": {
   "display_name": "farah-venv",
   "language": "python",
   "name": "python3"
  },
  "language_info": {
   "codemirror_mode": {
    "name": "ipython",
    "version": 3
   },
   "file_extension": ".py",
   "mimetype": "text/x-python",
   "name": "python",
   "nbconvert_exporter": "python",
   "pygments_lexer": "ipython3",
   "version": "3.12.6"
  }
 },
 "nbformat": 4,
 "nbformat_minor": 2
}
